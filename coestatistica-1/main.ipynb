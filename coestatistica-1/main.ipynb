{
 "cells": [
  {
   "cell_type": "code",
   "execution_count": 1,
   "metadata": {},
   "outputs": [],
   "source": [
    "import pandas as pd\n",
    "import numpy as np\n",
    "import json"
   ]
  },
  {
   "cell_type": "code",
   "execution_count": 2,
   "metadata": {},
   "outputs": [],
   "source": [
    "Input = pd.read_csv(\"desafio1.csv\")#carrega o df"
   ]
  },
  {
   "cell_type": "code",
   "execution_count": 3,
   "metadata": {},
   "outputs": [],
   "source": [
    "lista_estados = Input['estado_residencia'].unique() #lista todos os estados dentro do df"
   ]
  },
  {
   "cell_type": "code",
   "execution_count": 4,
   "metadata": {},
   "outputs": [],
   "source": [
    "submission = {}\n",
    "for i in range(len(lista_estados)):\n",
    "    media = float(Input[(Input['estado_residencia'] == lista_estados[i])]['pontuacao_credito'].mean()) #calcula a média\n",
    "    desvio = float(Input[(Input['estado_residencia'] == lista_estados[i])]['pontuacao_credito'].std()) # caclula o desvio padrão\n",
    "    mediana = float(Input[(Input['estado_residencia'] == lista_estados[i])]['pontuacao_credito'].median())# calcula a mediana\n",
    "    moda = Input[(Input['estado_residencia'] == lista_estados[i])]['pontuacao_credito'].mode() #calcula a moda\n",
    "    submission.update({lista_estados[i] : {\"moda\" : float(moda[0]), \"mediana\" : mediana, \"media\": media, \"desvio_padrao\" : desvio}}) #cria um dicionário com as informações"
   ]
  },
  {
   "cell_type": "code",
   "execution_count": 5,
   "metadata": {},
   "outputs": [],
   "source": [
    "with open('submission.json', 'w') as f: #carrega o json onde deve ser enviada a resposta\n",
    "    json.dump(submission, f)  #escreve o json com a resposta"
   ]
  }
 ],
 "metadata": {
  "kernelspec": {
   "display_name": "Python 3",
   "language": "python",
   "name": "python3"
  },
  "language_info": {
   "codemirror_mode": {
    "name": "ipython",
    "version": 3
   },
   "file_extension": ".py",
   "mimetype": "text/x-python",
   "name": "python",
   "nbconvert_exporter": "python",
   "pygments_lexer": "ipython3",
   "version": "3.7.6"
  }
 },
 "nbformat": 4,
 "nbformat_minor": 4
}
